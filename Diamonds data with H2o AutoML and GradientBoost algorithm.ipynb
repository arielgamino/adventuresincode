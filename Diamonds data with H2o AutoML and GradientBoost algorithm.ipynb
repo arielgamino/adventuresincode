{
 "cells": [
  {
   "cell_type": "markdown",
   "metadata": {},
   "source": [
    "## Load H2o AutoML class and try it against the diamonds dataset"
   ]
  },
  {
   "cell_type": "code",
   "execution_count": 5,
   "metadata": {},
   "outputs": [
    {
     "name": "stdout",
     "output_type": "stream",
     "text": [
      "Checking whether there is an H2O instance running at http://localhost:54321..... not found.\n",
      "Attempting to start a local H2O server...\n",
      "  Java Version: java version \"1.8.0_171\"; Java(TM) SE Runtime Environment (build 1.8.0_171-b11); Java HotSpot(TM) 64-Bit Server VM (build 25.171-b11, mixed mode)\n",
      "  Starting server from /Users/gamino/anaconda3/envs/py3/lib/python3.6/site-packages/h2o/backend/bin/h2o.jar\n",
      "  Ice root: /var/folders/_3/pf52_xvx7cv8w9ht736sn03w0000gn/T/tmprql6kuz6\n",
      "  JVM stdout: /var/folders/_3/pf52_xvx7cv8w9ht736sn03w0000gn/T/tmprql6kuz6/h2o_gamino_started_from_python.out\n",
      "  JVM stderr: /var/folders/_3/pf52_xvx7cv8w9ht736sn03w0000gn/T/tmprql6kuz6/h2o_gamino_started_from_python.err\n",
      "  Server is running at http://127.0.0.1:54321\n",
      "Connecting to H2O server at http://127.0.0.1:54321... successful.\n"
     ]
    },
    {
     "data": {
      "text/html": [
       "<div style=\"overflow:auto\"><table style=\"width:50%\"><tr><td>H2O cluster uptime:</td>\n",
       "<td>01 secs</td></tr>\n",
       "<tr><td>H2O cluster timezone:</td>\n",
       "<td>America/New_York</td></tr>\n",
       "<tr><td>H2O data parsing timezone:</td>\n",
       "<td>UTC</td></tr>\n",
       "<tr><td>H2O cluster version:</td>\n",
       "<td>3.18.0.11</td></tr>\n",
       "<tr><td>H2O cluster version age:</td>\n",
       "<td>14 days, 12 hours and 46 minutes </td></tr>\n",
       "<tr><td>H2O cluster name:</td>\n",
       "<td>H2O_from_python_gamino_fmllre</td></tr>\n",
       "<tr><td>H2O cluster total nodes:</td>\n",
       "<td>1</td></tr>\n",
       "<tr><td>H2O cluster free memory:</td>\n",
       "<td>3.556 Gb</td></tr>\n",
       "<tr><td>H2O cluster total cores:</td>\n",
       "<td>8</td></tr>\n",
       "<tr><td>H2O cluster allowed cores:</td>\n",
       "<td>8</td></tr>\n",
       "<tr><td>H2O cluster status:</td>\n",
       "<td>accepting new members, healthy</td></tr>\n",
       "<tr><td>H2O connection url:</td>\n",
       "<td>http://127.0.0.1:54321</td></tr>\n",
       "<tr><td>H2O connection proxy:</td>\n",
       "<td>None</td></tr>\n",
       "<tr><td>H2O internal security:</td>\n",
       "<td>False</td></tr>\n",
       "<tr><td>H2O API Extensions:</td>\n",
       "<td>XGBoost, Algos, AutoML, Core V3, Core V4</td></tr>\n",
       "<tr><td>Python version:</td>\n",
       "<td>3.6.5 final</td></tr></table></div>"
      ],
      "text/plain": [
       "--------------------------  ----------------------------------------\n",
       "H2O cluster uptime:         01 secs\n",
       "H2O cluster timezone:       America/New_York\n",
       "H2O data parsing timezone:  UTC\n",
       "H2O cluster version:        3.18.0.11\n",
       "H2O cluster version age:    14 days, 12 hours and 46 minutes\n",
       "H2O cluster name:           H2O_from_python_gamino_fmllre\n",
       "H2O cluster total nodes:    1\n",
       "H2O cluster free memory:    3.556 Gb\n",
       "H2O cluster total cores:    8\n",
       "H2O cluster allowed cores:  8\n",
       "H2O cluster status:         accepting new members, healthy\n",
       "H2O connection url:         http://127.0.0.1:54321\n",
       "H2O connection proxy:\n",
       "H2O internal security:      False\n",
       "H2O API Extensions:         XGBoost, Algos, AutoML, Core V3, Core V4\n",
       "Python version:             3.6.5 final\n",
       "--------------------------  ----------------------------------------"
      ]
     },
     "metadata": {},
     "output_type": "display_data"
    }
   ],
   "source": [
    "import h2o\n",
    "from h2o.automl import H2OAutoML\n",
    "\n",
    "h2o.init()"
   ]
  },
  {
   "cell_type": "markdown",
   "metadata": {},
   "source": [
    "### Load diamonds.csv\n",
    "\n",
    "This file first need to be uploaded to H2o flow"
   ]
  },
  {
   "cell_type": "code",
   "execution_count": 6,
   "metadata": {},
   "outputs": [
    {
     "name": "stdout",
     "output_type": "stream",
     "text": [
      "Parse progress: |█████████████████████████████████████████████████████████| 100%\n"
     ]
    }
   ],
   "source": [
    "from h2o.utils.shared_utils import _locate\n",
    "data_path = _locate(\"diamonds.csv\")\n",
    "data = h2o.import_file(data_path)"
   ]
  },
  {
   "cell_type": "markdown",
   "metadata": {},
   "source": [
    "### Split data into train, test, validate"
   ]
  },
  {
   "cell_type": "code",
   "execution_count": 7,
   "metadata": {},
   "outputs": [],
   "source": [
    "train,test,valid = data.split_frame(ratios=[.7, .15])\n"
   ]
  },
  {
   "cell_type": "markdown",
   "metadata": {},
   "source": [
    "### Show columns"
   ]
  },
  {
   "cell_type": "code",
   "execution_count": 8,
   "metadata": {},
   "outputs": [
    {
     "data": {
      "text/plain": [
       "['carat', 'cut', 'color', 'clarity', 'depth', 'table', 'price', 'x', 'y', 'z']"
      ]
     },
     "execution_count": 8,
     "metadata": {},
     "output_type": "execute_result"
    }
   ],
   "source": [
    "train.columns"
   ]
  },
  {
   "cell_type": "code",
   "execution_count": 9,
   "metadata": {},
   "outputs": [
    {
     "data": {
      "text/html": [
       "<table>\n",
       "<thead>\n",
       "<tr><th style=\"text-align: right;\">  carat</th><th>cut      </th><th>color  </th><th>clarity  </th><th style=\"text-align: right;\">  depth</th><th style=\"text-align: right;\">  table</th><th style=\"text-align: right;\">  price</th><th style=\"text-align: right;\">   x</th><th style=\"text-align: right;\">   y</th><th style=\"text-align: right;\">   z</th></tr>\n",
       "</thead>\n",
       "<tbody>\n",
       "<tr><td style=\"text-align: right;\">   0.26</td><td>Very Good</td><td>H      </td><td>SI1      </td><td style=\"text-align: right;\">   61.9</td><td style=\"text-align: right;\">     55</td><td style=\"text-align: right;\">    337</td><td style=\"text-align: right;\">4.07</td><td style=\"text-align: right;\">4.11</td><td style=\"text-align: right;\">2.53</td></tr>\n",
       "<tr><td style=\"text-align: right;\">   0.31</td><td>Ideal    </td><td>J      </td><td>SI2      </td><td style=\"text-align: right;\">   62.2</td><td style=\"text-align: right;\">     54</td><td style=\"text-align: right;\">    344</td><td style=\"text-align: right;\">4.35</td><td style=\"text-align: right;\">4.37</td><td style=\"text-align: right;\">2.71</td></tr>\n",
       "<tr><td style=\"text-align: right;\">   0.2 </td><td>Premium  </td><td>E      </td><td>SI2      </td><td style=\"text-align: right;\">   60.2</td><td style=\"text-align: right;\">     62</td><td style=\"text-align: right;\">    345</td><td style=\"text-align: right;\">3.79</td><td style=\"text-align: right;\">3.75</td><td style=\"text-align: right;\">2.27</td></tr>\n",
       "<tr><td style=\"text-align: right;\">   0.23</td><td>Very Good</td><td>D      </td><td>VS2      </td><td style=\"text-align: right;\">   60.5</td><td style=\"text-align: right;\">     61</td><td style=\"text-align: right;\">    357</td><td style=\"text-align: right;\">3.96</td><td style=\"text-align: right;\">3.97</td><td style=\"text-align: right;\">2.4 </td></tr>\n",
       "<tr><td style=\"text-align: right;\">   0.31</td><td>Good     </td><td>H      </td><td>SI1      </td><td style=\"text-align: right;\">   64  </td><td style=\"text-align: right;\">     54</td><td style=\"text-align: right;\">    402</td><td style=\"text-align: right;\">4.29</td><td style=\"text-align: right;\">4.31</td><td style=\"text-align: right;\">2.75</td></tr>\n",
       "<tr><td style=\"text-align: right;\">   0.25</td><td>Very Good</td><td>E      </td><td>VS2      </td><td style=\"text-align: right;\">   63.3</td><td style=\"text-align: right;\">     60</td><td style=\"text-align: right;\">    404</td><td style=\"text-align: right;\">4   </td><td style=\"text-align: right;\">4.03</td><td style=\"text-align: right;\">2.54</td></tr>\n",
       "<tr><td style=\"text-align: right;\">   0.3 </td><td>Premium  </td><td>H      </td><td>SI1      </td><td style=\"text-align: right;\">   62.9</td><td style=\"text-align: right;\">     59</td><td style=\"text-align: right;\">    554</td><td style=\"text-align: right;\">4.28</td><td style=\"text-align: right;\">4.24</td><td style=\"text-align: right;\">2.68</td></tr>\n",
       "<tr><td style=\"text-align: right;\">   0.3 </td><td>Premium  </td><td>H      </td><td>SI1      </td><td style=\"text-align: right;\">   62.5</td><td style=\"text-align: right;\">     57</td><td style=\"text-align: right;\">    554</td><td style=\"text-align: right;\">4.29</td><td style=\"text-align: right;\">4.25</td><td style=\"text-align: right;\">2.67</td></tr>\n",
       "<tr><td style=\"text-align: right;\">   0.26</td><td>Very Good</td><td>E      </td><td>VVS2     </td><td style=\"text-align: right;\">   59.9</td><td style=\"text-align: right;\">     58</td><td style=\"text-align: right;\">    554</td><td style=\"text-align: right;\">4.15</td><td style=\"text-align: right;\">4.23</td><td style=\"text-align: right;\">2.51</td></tr>\n",
       "<tr><td style=\"text-align: right;\">   0.26</td><td>Very Good</td><td>D      </td><td>VVS2     </td><td style=\"text-align: right;\">   62.8</td><td style=\"text-align: right;\">     60</td><td style=\"text-align: right;\">    554</td><td style=\"text-align: right;\">4.01</td><td style=\"text-align: right;\">4.05</td><td style=\"text-align: right;\">2.53</td></tr>\n",
       "</tbody>\n",
       "</table>"
      ]
     },
     "metadata": {},
     "output_type": "display_data"
    },
    {
     "data": {
      "text/plain": []
     },
     "execution_count": 9,
     "metadata": {},
     "output_type": "execute_result"
    }
   ],
   "source": [
    "test"
   ]
  },
  {
   "cell_type": "markdown",
   "metadata": {},
   "source": [
    "### Get columns for training data and for target value\n",
    "\n",
    "x contains the columns that will be used as features\n",
    "\n",
    "y is the target variable"
   ]
  },
  {
   "cell_type": "code",
   "execution_count": 10,
   "metadata": {},
   "outputs": [],
   "source": [
    "# Identify predictors and response\n",
    "x = train.columns\n",
    "y = \"price\"\n",
    "x.remove(y)"
   ]
  },
  {
   "cell_type": "code",
   "execution_count": 11,
   "metadata": {},
   "outputs": [
    {
     "data": {
      "text/plain": [
       "['carat', 'cut', 'color', 'clarity', 'depth', 'table', 'x', 'y', 'z']"
      ]
     },
     "execution_count": 11,
     "metadata": {},
     "output_type": "execute_result"
    }
   ],
   "source": [
    "x"
   ]
  },
  {
   "cell_type": "code",
   "execution_count": 12,
   "metadata": {},
   "outputs": [
    {
     "data": {
      "text/plain": [
       "'price'"
      ]
     },
     "execution_count": 12,
     "metadata": {},
     "output_type": "execute_result"
    }
   ],
   "source": [
    "y"
   ]
  },
  {
   "cell_type": "markdown",
   "metadata": {},
   "source": [
    "### This is what does the magic!\n",
    "\n",
    "H2OAutoML checks multiple algorithms to come up with the best one for the training set\n"
   ]
  },
  {
   "cell_type": "code",
   "execution_count": 13,
   "metadata": {},
   "outputs": [
    {
     "name": "stdout",
     "output_type": "stream",
     "text": [
      "AutoML progress: |████████████████████████████████████████████████████████| 100%\n",
      "Parse progress: |█████████████████████████████████████████████████████████| 100%\n"
     ]
    }
   ],
   "source": [
    "# Run AutoML for 180 seconds\n",
    "aml = H2OAutoML(max_runtime_secs = 180)\n",
    "aml.train(x = x, y = y,training_frame = train)"
   ]
  },
  {
   "cell_type": "markdown",
   "metadata": {},
   "source": [
    "### Leaderboard shows the best performing algorithms"
   ]
  },
  {
   "cell_type": "code",
   "execution_count": 65,
   "metadata": {},
   "outputs": [
    {
     "data": {
      "text/html": [
       "<table>\n",
       "<thead>\n",
       "<tr><th>model_id                                 </th><th style=\"text-align: right;\">  mean_residual_deviance</th><th style=\"text-align: right;\">   rmse</th><th style=\"text-align: right;\">    mae</th><th style=\"text-align: right;\">      rmsle</th></tr>\n",
       "</thead>\n",
       "<tbody>\n",
       "<tr><td>GBM_grid_0_AutoML_20180607_180617_model_2</td><td style=\"text-align: right;\">                  286930</td><td style=\"text-align: right;\">535.658</td><td style=\"text-align: right;\">274.17 </td><td style=\"text-align: right;\">nan        </td></tr>\n",
       "<tr><td>GBM_grid_0_AutoML_20180607_181251_model_3</td><td style=\"text-align: right;\">                  288110</td><td style=\"text-align: right;\">536.758</td><td style=\"text-align: right;\">272.205</td><td style=\"text-align: right;\">  0.0942363</td></tr>\n",
       "<tr><td>GBM_grid_0_AutoML_20180607_180617_model_1</td><td style=\"text-align: right;\">                  288308</td><td style=\"text-align: right;\">536.944</td><td style=\"text-align: right;\">277.406</td><td style=\"text-align: right;\">  0.102236 </td></tr>\n",
       "<tr><td>GBM_grid_0_AutoML_20180607_181251_model_1</td><td style=\"text-align: right;\">                  288673</td><td style=\"text-align: right;\">537.283</td><td style=\"text-align: right;\">278.491</td><td style=\"text-align: right;\">  0.101685 </td></tr>\n",
       "<tr><td>GBM_grid_0_AutoML_20180607_181251_model_5</td><td style=\"text-align: right;\">                  289240</td><td style=\"text-align: right;\">537.811</td><td style=\"text-align: right;\">277.324</td><td style=\"text-align: right;\">  0.100033 </td></tr>\n",
       "<tr><td>GBM_grid_0_AutoML_20180607_180617_model_0</td><td style=\"text-align: right;\">                  291223</td><td style=\"text-align: right;\">539.651</td><td style=\"text-align: right;\">281.23 </td><td style=\"text-align: right;\">  0.101893 </td></tr>\n",
       "<tr><td>GBM_grid_0_AutoML_20180607_180617_model_3</td><td style=\"text-align: right;\">                  291779</td><td style=\"text-align: right;\">540.165</td><td style=\"text-align: right;\">271.793</td><td style=\"text-align: right;\">nan        </td></tr>\n",
       "<tr><td>GBM_grid_0_AutoML_20180607_181251_model_2</td><td style=\"text-align: right;\">                  291884</td><td style=\"text-align: right;\">540.263</td><td style=\"text-align: right;\">277.073</td><td style=\"text-align: right;\">  0.0994824</td></tr>\n",
       "<tr><td>GBM_grid_0_AutoML_20180607_181251_model_0</td><td style=\"text-align: right;\">                  293097</td><td style=\"text-align: right;\">541.384</td><td style=\"text-align: right;\">281.363</td><td style=\"text-align: right;\">  0.102533 </td></tr>\n",
       "<tr><td>GBM_grid_0_AutoML_20180607_181251_model_4</td><td style=\"text-align: right;\">                  298746</td><td style=\"text-align: right;\">546.577</td><td style=\"text-align: right;\">275.188</td><td style=\"text-align: right;\">  0.0990725</td></tr>\n",
       "</tbody>\n",
       "</table>"
      ]
     },
     "metadata": {},
     "output_type": "display_data"
    },
    {
     "data": {
      "text/plain": []
     },
     "execution_count": 65,
     "metadata": {},
     "output_type": "execute_result"
    }
   ],
   "source": [
    "# View the AutoML Leaderboard\n",
    "lb = aml.leaderboard\n",
    "lb"
   ]
  },
  {
   "cell_type": "markdown",
   "metadata": {},
   "source": [
    "### Make predictions"
   ]
  },
  {
   "cell_type": "code",
   "execution_count": 17,
   "metadata": {},
   "outputs": [
    {
     "name": "stdout",
     "output_type": "stream",
     "text": [
      "Parse progress: |█████████████████████████████████████████████████████████| 100%\n",
      "gbm prediction progress: |████████████████████████████████████████████████| 100%\n"
     ]
    }
   ],
   "source": [
    "preds = aml.predict(test)"
   ]
  },
  {
   "cell_type": "code",
   "execution_count": 18,
   "metadata": {},
   "outputs": [
    {
     "data": {
      "text/html": [
       "<table>\n",
       "<thead>\n",
       "<tr><th style=\"text-align: right;\">  price</th></tr>\n",
       "</thead>\n",
       "<tbody>\n",
       "<tr><td style=\"text-align: right;\">    337</td></tr>\n",
       "<tr><td style=\"text-align: right;\">    344</td></tr>\n",
       "<tr><td style=\"text-align: right;\">    345</td></tr>\n",
       "<tr><td style=\"text-align: right;\">    357</td></tr>\n",
       "<tr><td style=\"text-align: right;\">    402</td></tr>\n",
       "<tr><td style=\"text-align: right;\">    404</td></tr>\n",
       "<tr><td style=\"text-align: right;\">    554</td></tr>\n",
       "<tr><td style=\"text-align: right;\">    554</td></tr>\n",
       "<tr><td style=\"text-align: right;\">    554</td></tr>\n",
       "<tr><td style=\"text-align: right;\">    554</td></tr>\n",
       "</tbody>\n",
       "</table>"
      ]
     },
     "metadata": {},
     "output_type": "display_data"
    },
    {
     "data": {
      "text/plain": []
     },
     "execution_count": 18,
     "metadata": {},
     "output_type": "execute_result"
    }
   ],
   "source": [
    "# These are the prices that need to be predicted\n",
    "test['price']"
   ]
  },
  {
   "cell_type": "code",
   "execution_count": 19,
   "metadata": {},
   "outputs": [
    {
     "data": {
      "text/html": [
       "<table>\n",
       "<thead>\n",
       "<tr><th style=\"text-align: right;\">  predict</th></tr>\n",
       "</thead>\n",
       "<tbody>\n",
       "<tr><td style=\"text-align: right;\">  463.944</td></tr>\n",
       "<tr><td style=\"text-align: right;\">  403.19 </td></tr>\n",
       "<tr><td style=\"text-align: right;\">  573.689</td></tr>\n",
       "<tr><td style=\"text-align: right;\">  445.473</td></tr>\n",
       "<tr><td style=\"text-align: right;\">  513.694</td></tr>\n",
       "<tr><td style=\"text-align: right;\">  501.353</td></tr>\n",
       "<tr><td style=\"text-align: right;\">  590.693</td></tr>\n",
       "<tr><td style=\"text-align: right;\">  586.282</td></tr>\n",
       "<tr><td style=\"text-align: right;\">  653.47 </td></tr>\n",
       "<tr><td style=\"text-align: right;\">  596.303</td></tr>\n",
       "</tbody>\n",
       "</table>"
      ]
     },
     "metadata": {},
     "output_type": "display_data"
    },
    {
     "data": {
      "text/plain": []
     },
     "execution_count": 19,
     "metadata": {},
     "output_type": "execute_result"
    }
   ],
   "source": [
    "# These are the predictions\n",
    "preds"
   ]
  },
  {
   "cell_type": "markdown",
   "metadata": {},
   "source": [
    "## Now let's try a Gradient Boosting Machine (GBM)\n",
    "\n",
    "This is to compare another library"
   ]
  },
  {
   "cell_type": "code",
   "execution_count": 23,
   "metadata": {},
   "outputs": [],
   "source": [
    "# Import H2O GBM:\n",
    "from h2o.estimators.gbm import H2OGradientBoostingEstimator"
   ]
  },
  {
   "cell_type": "code",
   "execution_count": 24,
   "metadata": {},
   "outputs": [],
   "source": [
    "#distribution is gaussian since this is a regression \n",
    "model = H2OGradientBoostingEstimator(distribution='gaussian',\n",
    "                                    ntrees=100,\n",
    "                                    max_depth=4,\n",
    "                                    learn_rate=0.1)"
   ]
  },
  {
   "cell_type": "code",
   "execution_count": 25,
   "metadata": {},
   "outputs": [
    {
     "name": "stdout",
     "output_type": "stream",
     "text": [
      "gbm Model Build progress: |███████████████████████████████████████████████| 100%\n"
     ]
    }
   ],
   "source": [
    "model.train(x=x, y=y, training_frame=train, validation_frame=valid)"
   ]
  },
  {
   "cell_type": "markdown",
   "metadata": {},
   "source": [
    "### RMSE slighty better\n",
    "\n",
    "RMSE = 532.4020635978326, which is slightly better than the AutoML one."
   ]
  },
  {
   "cell_type": "code",
   "execution_count": 26,
   "metadata": {},
   "outputs": [
    {
     "name": "stdout",
     "output_type": "stream",
     "text": [
      "Model Details\n",
      "=============\n",
      "H2OGradientBoostingEstimator :  Gradient Boosting Machine\n",
      "Model Key:  GBM_model_python_1528421256106_1\n",
      "\n",
      "\n",
      "ModelMetricsRegression: gbm\n",
      "** Reported on train data. **\n",
      "\n",
      "MSE: 283451.95732323057\n",
      "RMSE: 532.4020635978326\n",
      "MAE: 288.7472782782823\n",
      "RMSLE: 0.1152764036062172\n",
      "Mean Residual Deviance: 283451.95732323057\n",
      "\n",
      "ModelMetricsRegression: gbm\n",
      "** Reported on validation data. **\n",
      "\n",
      "MSE: 296436.3973642804\n",
      "RMSE: 544.4597297911761\n",
      "MAE: 294.18529021312133\n",
      "RMSLE: 0.11717214588231087\n",
      "Mean Residual Deviance: 296436.3973642804\n",
      "Scoring History: \n"
     ]
    },
    {
     "data": {
      "text/html": [
       "<div style=\"overflow:auto\"><table style=\"width:50%\"><tr><td><b></b></td>\n",
       "<td><b>timestamp</b></td>\n",
       "<td><b>duration</b></td>\n",
       "<td><b>number_of_trees</b></td>\n",
       "<td><b>training_rmse</b></td>\n",
       "<td><b>training_mae</b></td>\n",
       "<td><b>training_deviance</b></td>\n",
       "<td><b>validation_rmse</b></td>\n",
       "<td><b>validation_mae</b></td>\n",
       "<td><b>validation_deviance</b></td></tr>\n",
       "<tr><td></td>\n",
       "<td>2018-06-07 21:36:57</td>\n",
       "<td> 0.001 sec</td>\n",
       "<td>0.0</td>\n",
       "<td>3985.1110417</td>\n",
       "<td>3023.0329563</td>\n",
       "<td>15881110.0148942</td>\n",
       "<td>3992.4900280</td>\n",
       "<td>3024.8641092</td>\n",
       "<td>15939976.6240625</td></tr>\n",
       "<tr><td></td>\n",
       "<td>2018-06-07 21:36:57</td>\n",
       "<td> 0.050 sec</td>\n",
       "<td>1.0</td>\n",
       "<td>3622.9033243</td>\n",
       "<td>2732.0680656</td>\n",
       "<td>13125428.4970491</td>\n",
       "<td>3625.6343790</td>\n",
       "<td>2731.1352458</td>\n",
       "<td>13145224.6503541</td></tr>\n",
       "<tr><td></td>\n",
       "<td>2018-06-07 21:36:57</td>\n",
       "<td> 0.085 sec</td>\n",
       "<td>2.0</td>\n",
       "<td>3297.9048149</td>\n",
       "<td>2472.2462836</td>\n",
       "<td>10876176.1683887</td>\n",
       "<td>3300.0325754</td>\n",
       "<td>2470.9469260</td>\n",
       "<td>10890214.9989235</td></tr>\n",
       "<tr><td></td>\n",
       "<td>2018-06-07 21:36:57</td>\n",
       "<td> 0.103 sec</td>\n",
       "<td>3.0</td>\n",
       "<td>3007.3107088</td>\n",
       "<td>2241.5720048</td>\n",
       "<td>9043917.6991896</td>\n",
       "<td>3007.4356649</td>\n",
       "<td>2239.6791626</td>\n",
       "<td>9044669.2787503</td></tr>\n",
       "<tr><td></td>\n",
       "<td>2018-06-07 21:36:57</td>\n",
       "<td> 0.125 sec</td>\n",
       "<td>4.0</td>\n",
       "<td>2746.5965518</td>\n",
       "<td>2034.6642295</td>\n",
       "<td>7543792.6182017</td>\n",
       "<td>2745.8599775</td>\n",
       "<td>2032.6625673</td>\n",
       "<td>7539747.0160709</td></tr>\n",
       "<tr><td>---</td>\n",
       "<td>---</td>\n",
       "<td>---</td>\n",
       "<td>---</td>\n",
       "<td>---</td>\n",
       "<td>---</td>\n",
       "<td>---</td>\n",
       "<td>---</td>\n",
       "<td>---</td>\n",
       "<td>---</td></tr>\n",
       "<tr><td></td>\n",
       "<td>2018-06-07 21:36:58</td>\n",
       "<td> 1.399 sec</td>\n",
       "<td>96.0</td>\n",
       "<td>533.5118830</td>\n",
       "<td>289.2538225</td>\n",
       "<td>284634.9292559</td>\n",
       "<td>545.0672241</td>\n",
       "<td>294.4237733</td>\n",
       "<td>297098.2787551</td></tr>\n",
       "<tr><td></td>\n",
       "<td>2018-06-07 21:36:58</td>\n",
       "<td> 1.411 sec</td>\n",
       "<td>97.0</td>\n",
       "<td>533.2759382</td>\n",
       "<td>288.9947942</td>\n",
       "<td>284383.2263024</td>\n",
       "<td>544.7951581</td>\n",
       "<td>294.1768023</td>\n",
       "<td>296801.7642895</td></tr>\n",
       "<tr><td></td>\n",
       "<td>2018-06-07 21:36:58</td>\n",
       "<td> 1.423 sec</td>\n",
       "<td>98.0</td>\n",
       "<td>532.9586042</td>\n",
       "<td>288.9296683</td>\n",
       "<td>284044.8737432</td>\n",
       "<td>544.3982221</td>\n",
       "<td>294.0963496</td>\n",
       "<td>296369.4242790</td></tr>\n",
       "<tr><td></td>\n",
       "<td>2018-06-07 21:36:58</td>\n",
       "<td> 1.435 sec</td>\n",
       "<td>99.0</td>\n",
       "<td>532.6426374</td>\n",
       "<td>288.8274437</td>\n",
       "<td>283708.1791296</td>\n",
       "<td>544.5046489</td>\n",
       "<td>294.1594092</td>\n",
       "<td>296485.3126409</td></tr>\n",
       "<tr><td></td>\n",
       "<td>2018-06-07 21:36:58</td>\n",
       "<td> 1.447 sec</td>\n",
       "<td>100.0</td>\n",
       "<td>532.4020636</td>\n",
       "<td>288.7472783</td>\n",
       "<td>283451.9573232</td>\n",
       "<td>544.4597298</td>\n",
       "<td>294.1852902</td>\n",
       "<td>296436.3973643</td></tr></table></div>"
      ],
      "text/plain": [
       "     timestamp            duration    number_of_trees    training_rmse       training_mae        training_deviance    validation_rmse     validation_mae      validation_deviance\n",
       "---  -------------------  ----------  -----------------  ------------------  ------------------  -------------------  ------------------  ------------------  ---------------------\n",
       "     2018-06-07 21:36:57  0.001 sec   0.0                3985.1110417269665  3023.032956323038   15881110.01489419    3992.4900280479674  3024.864109173917   15939976.624062458\n",
       "     2018-06-07 21:36:57  0.050 sec   1.0                3622.903324275863   2732.068065598311   13125428.497049097   3625.6343790230826  2731.135245773868   13145224.650354095\n",
       "     2018-06-07 21:36:57  0.085 sec   2.0                3297.904814937618   2472.246283635005   10876176.168388724   3300.032575433683   2470.9469259988514  10890214.99892347\n",
       "     2018-06-07 21:36:57  0.103 sec   3.0                3007.3107087877765  2241.572004790834   9043917.699189639    3007.435664939534   2239.6791625871933  9044669.278750297\n",
       "     2018-06-07 21:36:57  0.125 sec   4.0                2746.5965517712452  2034.664229544942   7543792.6182016935   2745.859977506309   2032.6625672506566  7539747.016070948\n",
       "---  ---                  ---         ---                ---                 ---                 ---                  ---                 ---                 ---\n",
       "     2018-06-07 21:36:58  1.399 sec   96.0               533.5118829566278   289.2538225435039   284634.9292559266    545.0672240697611   294.4237732711124   297098.2787551151\n",
       "     2018-06-07 21:36:58  1.411 sec   97.0               533.2759382368484   288.99479419993247  284383.22630239103   544.7951581003119   294.17680226952245  296801.76428954385\n",
       "     2018-06-07 21:36:58  1.423 sec   98.0               532.9586041553155   288.9296682917162   284044.8737431822    544.3982221489651   294.09634963965954  296369.424278954\n",
       "     2018-06-07 21:36:58  1.435 sec   99.0               532.6426373560278   288.8274436642431   283708.1791295849    544.5046488698346   294.1594091886253   296485.31264086184\n",
       "     2018-06-07 21:36:58  1.447 sec   100.0              532.4020635978326   288.7472782782823   283451.95732323057   544.4597297911761   294.18529021312133  296436.3973642804"
      ]
     },
     "metadata": {},
     "output_type": "display_data"
    },
    {
     "name": "stdout",
     "output_type": "stream",
     "text": [
      "\n",
      "See the whole table with table.as_data_frame()\n",
      "Variable Importances: \n"
     ]
    },
    {
     "data": {
      "text/html": [
       "<div style=\"overflow:auto\"><table style=\"width:50%\"><tr><td><b>variable</b></td>\n",
       "<td><b>relative_importance</b></td>\n",
       "<td><b>scaled_importance</b></td>\n",
       "<td><b>percentage</b></td></tr>\n",
       "<tr><td>y</td>\n",
       "<td>1434649362432.0000000</td>\n",
       "<td>1.0</td>\n",
       "<td>0.4611877</td></tr>\n",
       "<tr><td>carat</td>\n",
       "<td>1314949824512.0000000</td>\n",
       "<td>0.9165653</td>\n",
       "<td>0.4227086</td></tr>\n",
       "<tr><td>clarity</td>\n",
       "<td>197562040320.0000000</td>\n",
       "<td>0.1377075</td>\n",
       "<td>0.0635090</td></tr>\n",
       "<tr><td>color</td>\n",
       "<td>99812540416.0000000</td>\n",
       "<td>0.0695728</td>\n",
       "<td>0.0320861</td></tr>\n",
       "<tr><td>z</td>\n",
       "<td>38503088128.0000000</td>\n",
       "<td>0.0268380</td>\n",
       "<td>0.0123773</td></tr>\n",
       "<tr><td>x</td>\n",
       "<td>20378761216.0000000</td>\n",
       "<td>0.0142047</td>\n",
       "<td>0.0065510</td></tr>\n",
       "<tr><td>cut</td>\n",
       "<td>3082376192.0000000</td>\n",
       "<td>0.0021485</td>\n",
       "<td>0.0009909</td></tr>\n",
       "<tr><td>depth</td>\n",
       "<td>1331828352.0000000</td>\n",
       "<td>0.0009283</td>\n",
       "<td>0.0004281</td></tr>\n",
       "<tr><td>table</td>\n",
       "<td>501426400.0000000</td>\n",
       "<td>0.0003495</td>\n",
       "<td>0.0001612</td></tr></table></div>"
      ],
      "text/plain": [
       "variable    relative_importance    scaled_importance    percentage\n",
       "----------  ---------------------  -------------------  ------------\n",
       "y           1.43465e+12            1                    0.461188\n",
       "carat       1.31495e+12            0.916565             0.422709\n",
       "clarity     1.97562e+11            0.137708             0.063509\n",
       "color       9.98125e+10            0.0695728            0.0320861\n",
       "z           3.85031e+10            0.026838             0.0123773\n",
       "x           2.03788e+10            0.0142047            0.00655103\n",
       "cut         3.08238e+09            0.00214852           0.000990872\n",
       "depth       1.33183e+09            0.00092833           0.000428134\n",
       "table       5.01426e+08            0.000349511          0.00016119"
      ]
     },
     "metadata": {},
     "output_type": "display_data"
    },
    {
     "name": "stdout",
     "output_type": "stream",
     "text": [
      "\n"
     ]
    }
   ],
   "source": [
    "print(model)"
   ]
  },
  {
   "cell_type": "code",
   "execution_count": 27,
   "metadata": {},
   "outputs": [],
   "source": [
    "#show performance \n",
    "perf = model.model_performance(test)"
   ]
  },
  {
   "cell_type": "code",
   "execution_count": 28,
   "metadata": {},
   "outputs": [
    {
     "name": "stdout",
     "output_type": "stream",
     "text": [
      "\n",
      "ModelMetricsRegression: gbm\n",
      "** Reported on test data. **\n",
      "\n",
      "MSE: 295466.5312393864\n",
      "RMSE: 543.5683317112821\n",
      "MAE: 297.6899932238606\n",
      "RMSLE: 0.11839695754707748\n",
      "Mean Residual Deviance: 295466.5312393864\n"
     ]
    },
    {
     "data": {
      "text/plain": []
     },
     "execution_count": 28,
     "metadata": {},
     "output_type": "execute_result"
    }
   ],
   "source": [
    "perf"
   ]
  },
  {
   "cell_type": "code",
   "execution_count": 29,
   "metadata": {},
   "outputs": [
    {
     "data": {
      "text/html": [
       "<table>\n",
       "<thead>\n",
       "<tr><th style=\"text-align: right;\">  price</th></tr>\n",
       "</thead>\n",
       "<tbody>\n",
       "<tr><td style=\"text-align: right;\">    337</td></tr>\n",
       "<tr><td style=\"text-align: right;\">    344</td></tr>\n",
       "<tr><td style=\"text-align: right;\">    345</td></tr>\n",
       "<tr><td style=\"text-align: right;\">    357</td></tr>\n",
       "<tr><td style=\"text-align: right;\">    402</td></tr>\n",
       "<tr><td style=\"text-align: right;\">    404</td></tr>\n",
       "<tr><td style=\"text-align: right;\">    554</td></tr>\n",
       "<tr><td style=\"text-align: right;\">    554</td></tr>\n",
       "<tr><td style=\"text-align: right;\">    554</td></tr>\n",
       "<tr><td style=\"text-align: right;\">    554</td></tr>\n",
       "</tbody>\n",
       "</table>"
      ]
     },
     "metadata": {},
     "output_type": "display_data"
    },
    {
     "data": {
      "text/plain": []
     },
     "execution_count": 29,
     "metadata": {},
     "output_type": "execute_result"
    }
   ],
   "source": [
    "test['price']"
   ]
  },
  {
   "cell_type": "code",
   "execution_count": 30,
   "metadata": {},
   "outputs": [
    {
     "name": "stdout",
     "output_type": "stream",
     "text": [
      "gbm prediction progress: |████████████████████████████████████████████████| 100%\n"
     ]
    },
    {
     "data": {
      "text/html": [
       "<table>\n",
       "<thead>\n",
       "<tr><th style=\"text-align: right;\">  predict</th></tr>\n",
       "</thead>\n",
       "<tbody>\n",
       "<tr><td style=\"text-align: right;\">  361.707</td></tr>\n",
       "<tr><td style=\"text-align: right;\">  269.039</td></tr>\n",
       "<tr><td style=\"text-align: right;\">  842.117</td></tr>\n",
       "<tr><td style=\"text-align: right;\">  565.522</td></tr>\n",
       "<tr><td style=\"text-align: right;\">  477.192</td></tr>\n",
       "<tr><td style=\"text-align: right;\">  532.418</td></tr>\n",
       "<tr><td style=\"text-align: right;\">  525.352</td></tr>\n",
       "<tr><td style=\"text-align: right;\">  525.352</td></tr>\n",
       "<tr><td style=\"text-align: right;\">  625.238</td></tr>\n",
       "<tr><td style=\"text-align: right;\">  655.455</td></tr>\n",
       "</tbody>\n",
       "</table>"
      ]
     },
     "metadata": {},
     "output_type": "display_data"
    },
    {
     "data": {
      "text/plain": []
     },
     "execution_count": 30,
     "metadata": {},
     "output_type": "execute_result"
    }
   ],
   "source": [
    "#And this can be seen by predicted values as compared to test\n",
    "model.predict(test)"
   ]
  }
 ],
 "metadata": {
  "kernelspec": {
   "display_name": "Python [conda env:py3]",
   "language": "python",
   "name": "conda-env-py3-py"
  },
  "language_info": {
   "codemirror_mode": {
    "name": "ipython",
    "version": 3
   },
   "file_extension": ".py",
   "mimetype": "text/x-python",
   "name": "python",
   "nbconvert_exporter": "python",
   "pygments_lexer": "ipython3",
   "version": "3.6.5"
  }
 },
 "nbformat": 4,
 "nbformat_minor": 2
}
